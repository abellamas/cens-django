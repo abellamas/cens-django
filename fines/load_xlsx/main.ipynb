{
 "cells": [
  {
   "cell_type": "code",
   "execution_count": 10,
   "metadata": {
    "collapsed": true
   },
   "outputs": [],
   "source": [
    "import pandas as pd\n",
    "import openpyxl as opxl"
   ]
  },
  {
   "cell_type": "code",
   "execution_count": 11,
   "outputs": [],
   "source": [
    "df = pd.read_excel(\"excel/LIBROSMATRICES.xlsx\", sheet_name=\"ALUMNOS\")"
   ],
   "metadata": {
    "collapsed": false
   }
  },
  {
   "cell_type": "code",
   "execution_count": 12,
   "outputs": [
    {
     "name": "stdout",
     "output_type": "stream",
     "text": [
      "        apellido                nombre estado       dni orientation book  \\\n",
      "0         Avalos         Rossana          NaN  24186928       Cont.    1   \n",
      "1     Hermosilla        Yaquelin          NaN  36090000       Cont.    1   \n",
      "2         Monges         Paola I.         NaN  29268593       Cont.    1   \n",
      "3     Montenegro    Mirian Raquel         NaN  22175923       Cont.    1   \n",
      "4          Muñoz  Nicolas Arastua         NaN  44956978       Cont.    1   \n",
      "...          ...                   ...    ...       ...         ...  ...   \n",
      "3240         NaN                          NaN       NaN        Soc.   74   \n",
      "3241         NaN                          NaN       NaN        Soc.   74   \n",
      "3242         NaN                          NaN       NaN        Soc.   74   \n",
      "3243         NaN                          NaN       NaN        Soc.   74   \n",
      "3244         NaN                          NaN       NaN        Soc.   74   \n",
      "\n",
      "      folio condicion observation dni_doc  ... Unnamed: 121 Unnamed: 122  \\\n",
      "0         1       NaN         NaN     NaN  ...          NaN          NaN   \n",
      "1         2       NaN         NaN     NaN  ...          NaN          NaN   \n",
      "2         3       NaN         NaN     NaN  ...          NaN          NaN   \n",
      "3         4       NaN         NaN     NaN  ...          NaN          NaN   \n",
      "4         5       NaN         NaN     NaN  ...          NaN          NaN   \n",
      "...     ...       ...         ...     ...  ...          ...          ...   \n",
      "3240     34       NaN         NaN     NaN  ...          NaN          NaN   \n",
      "3241     35       NaN         NaN     NaN  ...          NaN          NaN   \n",
      "3242     36       NaN         NaN     NaN  ...          NaN          NaN   \n",
      "3243     37       NaN         NaN     NaN  ...          NaN          NaN   \n",
      "3244     38       NaN         NaN     NaN  ...          NaN          NaN   \n",
      "\n",
      "     Unnamed: 123 Unnamed: 124 Unnamed: 125 Unnamed: 126 Unnamed: 127  \\\n",
      "0             NaN          NaN          NaN          NaN          NaN   \n",
      "1             NaN          NaN          NaN          NaN          NaN   \n",
      "2             NaN          NaN          NaN          NaN          NaN   \n",
      "3             NaN          NaN          NaN          NaN          NaN   \n",
      "4             NaN          NaN          NaN          NaN          NaN   \n",
      "...           ...          ...          ...          ...          ...   \n",
      "3240          NaN          NaN          NaN          NaN          NaN   \n",
      "3241          NaN          NaN          NaN          NaN          NaN   \n",
      "3242          NaN          NaN          NaN          NaN          NaN   \n",
      "3243          NaN          NaN          NaN          NaN          NaN   \n",
      "3244          NaN          NaN          NaN          NaN          NaN   \n",
      "\n",
      "     Unnamed: 128  Unnamed: 129  Unnamed: 130  \n",
      "0             NaN           NaN           NaN  \n",
      "1             NaN           NaN           NaN  \n",
      "2             NaN           NaN           NaN  \n",
      "3             NaN           NaN           NaN  \n",
      "4             NaN           NaN           NaN  \n",
      "...           ...           ...           ...  \n",
      "3240          NaN           NaN           NaN  \n",
      "3241          NaN           NaN           NaN  \n",
      "3242          NaN           NaN           NaN  \n",
      "3243          NaN           NaN           NaN  \n",
      "3244          NaN           NaN           NaN  \n",
      "\n",
      "[3245 rows x 131 columns]\n"
     ]
    }
   ],
   "source": [
    "print(df)"
   ],
   "metadata": {
    "collapsed": false
   }
  },
  {
   "cell_type": "code",
   "execution_count": null,
   "outputs": [],
   "source": [],
   "metadata": {
    "collapsed": false
   }
  }
 ],
 "metadata": {
  "kernelspec": {
   "display_name": "Python 3",
   "language": "python",
   "name": "python3"
  },
  "language_info": {
   "codemirror_mode": {
    "name": "ipython",
    "version": 2
   },
   "file_extension": ".py",
   "mimetype": "text/x-python",
   "name": "python",
   "nbconvert_exporter": "python",
   "pygments_lexer": "ipython2",
   "version": "2.7.6"
  }
 },
 "nbformat": 4,
 "nbformat_minor": 0
}
